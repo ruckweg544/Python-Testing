{
 "cells": [
  {
   "cell_type": "markdown",
   "id": "4f3dd594",
   "metadata": {},
   "source": [
    "# Program 9\n",
    "\n",
    "**Description:** This program is written to demonstrate a Python program that shows steps to solve quadratic equation.\n",
    "\n",
    "**Date:** October 13, 2025"
   ]
  },
  {
   "cell_type": "code",
   "execution_count": 1,
   "id": "a3061d93",
   "metadata": {},
   "outputs": [],
   "source": [
    "from IPython.display import display, Math\n",
    "import cmath"
   ]
  },
  {
   "cell_type": "markdown",
   "id": "ba780665",
   "metadata": {},
   "source": [
    "**Standard form of a quadratic equation**"
   ]
  },
  {
   "cell_type": "code",
   "execution_count": 2,
   "id": "95d124fe",
   "metadata": {},
   "outputs": [
    {
     "data": {
      "text/latex": [
       "$\\displaystyle ax^2 + bx + c = 0$"
      ],
      "text/plain": [
       "<IPython.core.display.Math object>"
      ]
     },
     "metadata": {},
     "output_type": "display_data"
    }
   ],
   "source": [
    "display(Math(r\"ax^2 + bx + c = 0\"))"
   ]
  },
  {
   "cell_type": "markdown",
   "id": "e9973d4c",
   "metadata": {},
   "source": [
    "**The solutions of a quadratic equation**"
   ]
  },
  {
   "cell_type": "code",
   "execution_count": 3,
   "id": "bbcc0a7d",
   "metadata": {},
   "outputs": [
    {
     "data": {
      "text/latex": [
       "$\\displaystyle x = \\frac{-b \\pm \\sqrt{b^2 - 4ac}}{2a}$"
      ],
      "text/plain": [
       "<IPython.core.display.Math object>"
      ]
     },
     "metadata": {},
     "output_type": "display_data"
    }
   ],
   "source": [
    "display(Math(r\"x = \\frac{-b \\pm \\sqrt{b^2 - 4ac}}{2a}\"))"
   ]
  },
  {
   "cell_type": "code",
   "execution_count": null,
   "id": "60af2a33",
   "metadata": {},
   "outputs": [],
   "source": [
    "import math\n",
    "\n",
    "a = float(input(\"Enter coefficient a: \"))\n",
    "b = float(input(\"Enter coefficient b: \"))\n",
    "c = float(input(\"Enter coefficient c: \"))\n",
    "\n",
    "discriminant = b**2 - 4*a*c\n",
    "\n",
    "if discriminant > 0:\n",
    "    root1 = (-b + math.sqrt(discriminant)) / (2*a)\n",
    "    root2 = (-b - math.sqrt(discriminant)) / (2*a)\n",
    "    print(f\"Root 1: {root1}\")\n",
    "    print(f\"Root 2: {root2}\")\n",
    "elif discriminant == 0:\n",
    "    root = -b / (2*a)\n",
    "    print(f\"Root: {root}\")\n",
    "else:\n",
    "    real_part = -b / (2*a)\n",
    "    imaginary_part = math.sqrt(abs(discriminant)) / (2*a)\n",
    "    print(f\"Root 1: {real_part} + {imaginary_part}i\")\n",
    "    print(f\"Root 1: {real_part} - {imaginary_part}i\")"
   ]
  }
 ],
 "metadata": {
  "kernelspec": {
   "display_name": "Python 3",
   "language": "python",
   "name": "python3"
  },
  "language_info": {
   "codemirror_mode": {
    "name": "ipython",
    "version": 3
   },
   "file_extension": ".py",
   "mimetype": "text/x-python",
   "name": "python",
   "nbconvert_exporter": "python",
   "pygments_lexer": "ipython3",
   "version": "3.12.1"
  }
 },
 "nbformat": 4,
 "nbformat_minor": 5
}
